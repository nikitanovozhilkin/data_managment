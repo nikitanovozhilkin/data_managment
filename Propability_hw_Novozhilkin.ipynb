{
  "nbformat": 4,
  "nbformat_minor": 0,
  "metadata": {
    "kernelspec": {
      "display_name": "Python 3",
      "language": "python",
      "name": "python3"
    },
    "language_info": {
      "codemirror_mode": {
        "name": "ipython",
        "version": 3
      },
      "file_extension": ".py",
      "mimetype": "text/x-python",
      "name": "python",
      "nbconvert_exporter": "python",
      "pygments_lexer": "ipython3",
      "version": "3.7.3"
    },
    "colab": {
      "name": "Propability_hw_Novozhilkin.ipynb",
      "provenance": [],
      "collapsed_sections": []
    }
  },
  "cells": [
    {
      "cell_type": "markdown",
      "metadata": {
        "id": "EVg8u_ZmIFAK",
        "colab_type": "text"
      },
      "source": [
        "# HW1 Простые задачи на теорию вероятностей\n",
        "\n",
        "Решать задачи по терверу можно с помощью книжки [Теория вероятностей и математическая статистика : Базовый курс с примерами и задачами: учебное пособие Кибзун А.](https://biblioclub.ru/index.php?page=book&id=69320)\n",
        "\n",
        "Определить вероятность того, что случайно выбранный студент девочка. В группе 10 студентов, из которых 2 девочки"
      ]
    },
    {
      "cell_type": "code",
      "metadata": {
        "id": "mHtxD2QCIFAN",
        "colab_type": "code",
        "outputId": "8e537df8-d411-49be-e631-3df7d73ff41e",
        "colab": {
          "base_uri": "https://localhost:8080/",
          "height": 34
        }
      },
      "source": [
        "# Задача №1\n",
        "import math\n",
        "# событие А: случайно выбранный студент - девочка\n",
        "# число случаев\n",
        "n = 10\n",
        "# число благоприятных исходов m: 2\n",
        "m = 2\n",
        "# вычисляем вероятность\n",
        "print(f\"задача 1: P(A) = {m/n:.2f}\")"
      ],
      "execution_count": 0,
      "outputs": [
        {
          "output_type": "stream",
          "text": [
            "задача 1: P(A) = 0.20\n"
          ],
          "name": "stdout"
        }
      ]
    },
    {
      "cell_type": "markdown",
      "metadata": {
        "id": "GPmTxLzgIFAT",
        "colab_type": "text"
      },
      "source": [
        "В отеле 20 номеров, из которых 12 выходят на море. В гостиницу заселяются 12 девочек и 8 мальчиков. Ключи с видом на море выдают в начале. Какова вероятность события, что все девочки будут жить в номерах с видом на море"
      ]
    },
    {
      "cell_type": "code",
      "metadata": {
        "id": "QNoyogOcIFAU",
        "colab_type": "code",
        "outputId": "3614a70b-127c-4de9-a4dd-33944a1725ca",
        "colab": {}
      },
      "source": [
        "# Задача №2\n",
        "# событие А: последовательность людей, где первые 8 - девочки\n",
        "# число случаев n: 10\n",
        "n = math.factorial(20)\n",
        "# число благоприятных исходов m\n",
        "m = math.factorial(12)*math.factorial(8)\n",
        "# вычисляем вероятность\n",
        "print(f\"задача 1: P(A) = {m/n:.10f}\")"
      ],
      "execution_count": 0,
      "outputs": [
        {
          "output_type": "stream",
          "text": [
            "задача 1: P(A) = 0.0000079384\n"
          ],
          "name": "stdout"
        }
      ]
    },
    {
      "cell_type": "markdown",
      "metadata": {
        "id": "S0C79BfMIFAX",
        "colab_type": "text"
      },
      "source": [
        "На полке стоят три тома. Найти вероятность того, что книги стоят в верном порядке."
      ]
    },
    {
      "cell_type": "code",
      "metadata": {
        "id": "AZijyDT6IFAY",
        "colab_type": "code",
        "outputId": "ebaf6ddd-e041-4ad4-b751-ef3c1dade372",
        "colab": {}
      },
      "source": [
        "# Задача №3\n",
        "# событие А: тома не перемешаны\n",
        "# число случаев n: 2\n",
        "n = math.factorial(3)\n",
        "# число благоприятных исходов m: 2\n",
        "m = 2\n",
        "# вычисляем вероятность\n",
        "print(f\"задача 1: P(A) = {m/n:.2f}\")"
      ],
      "execution_count": 0,
      "outputs": [
        {
          "output_type": "stream",
          "text": [
            "задача 1: P(A) = 0.33\n"
          ],
          "name": "stdout"
        }
      ]
    },
    {
      "cell_type": "markdown",
      "metadata": {
        "id": "L_YYTxu8IFAc",
        "colab_type": "text"
      },
      "source": [
        "Бросают две монеты. Что более вероятно - что монеты выпадут одноимёнными сторонами, или разноимёнными."
      ]
    },
    {
      "cell_type": "code",
      "metadata": {
        "id": "mB-n0aMbIFAd",
        "colab_type": "code",
        "colab": {}
      },
      "source": [
        "# Задача №4\n",
        "p1 = 2/4\n",
        "p2 = 2/4"
      ],
      "execution_count": 0,
      "outputs": []
    },
    {
      "cell_type": "markdown",
      "metadata": {
        "id": "bqb_kt0_IFAg",
        "colab_type": "text"
      },
      "source": [
        "На столе лежат 100 карточек числами от $1$ до $100$. Какова вероятность, что наугад выбранная карта содержит \n",
        "1. 0 \n",
        "1. 5"
      ]
    },
    {
      "cell_type": "code",
      "metadata": {
        "id": "Po73ZTgYIFAh",
        "colab_type": "code",
        "outputId": "b1b60962-2af7-4a6f-c9e4-4eea7e2599c1",
        "colab": {}
      },
      "source": [
        "# Задача №5\n",
        "# A\n",
        "m = 10\n",
        "n = 100\n",
        "p = m/n\n",
        "print(f'p={p:.2f}')\n",
        "# B\n",
        "m = 19\n",
        "n = 100\n",
        "p = m/n\n",
        "print(f'p={p:.2f}')"
      ],
      "execution_count": 0,
      "outputs": [
        {
          "output_type": "stream",
          "text": [
            "p=0.10\n",
            "p=0.19\n"
          ],
          "name": "stdout"
        }
      ]
    },
    {
      "cell_type": "markdown",
      "metadata": {
        "id": "D-0EbtsNIFAl",
        "colab_type": "text"
      },
      "source": [
        "На столе лежат три письма и три конверта. Какова вероятность, что по адресу попадут\n",
        "1. Ни одно\n",
        "1. Ровно одно\n",
        "1. Ровно два"
      ]
    },
    {
      "cell_type": "code",
      "metadata": {
        "id": "qfDa7VmaIFAm",
        "colab_type": "code",
        "outputId": "e0911b89-2fef-4b04-b01d-aed7e5dcd647",
        "colab": {}
      },
      "source": [
        "# Задача №6\n",
        "\n",
        "# письма могут быть разложены шестью способами: 123, 132, 213, 231, 312, 321\n",
        "\n",
        "# пункт 1\n",
        "# благоприятному исходу соответствуют следующие ситуации: 231, 312\n",
        "m=2\n",
        "n=6\n",
        "p = m/n\n",
        "print(f'1. p={p:.2f}')\n",
        "\n",
        "# пункт 2\n",
        "# благоприятному исходу соответствуют следующие ситуации: 132, 213, 321\n",
        "m=3\n",
        "n=6\n",
        "p = m/n\n",
        "print(f'2. p={p:.2f}')\n",
        "\n",
        "# пункт 3\n",
        "# благоприятному исходу соответствуют следующие ситуации: таких нет (если 2 письма попадут по адресу, то и третье тоже попадет)\n",
        "m=0\n",
        "n=6\n",
        "p = m/n\n",
        "print(f'3. p={p:.2f}')\n",
        "\n",
        "# --------------------"
      ],
      "execution_count": 0,
      "outputs": [
        {
          "output_type": "stream",
          "text": [
            "1. p=0.33\n",
            "2. p=0.50\n",
            "3. p=0.00\n"
          ],
          "name": "stdout"
        }
      ]
    },
    {
      "cell_type": "markdown",
      "metadata": {
        "id": "lctmsiX9IFAp",
        "colab_type": "text"
      },
      "source": [
        "Из карточек {1,2,3,4,5} собирают 5-ти значное число. Найти вероятность того, что число чётное (размещения)"
      ]
    },
    {
      "cell_type": "code",
      "metadata": {
        "id": "2ibtTI-eIFAq",
        "colab_type": "code",
        "outputId": "229a84ec-995f-43ea-8b9f-51404da47bf8",
        "colab": {
          "base_uri": "https://localhost:8080/",
          "height": 34
        }
      },
      "source": [
        "# Задача №7\n",
        "\n",
        "m=2 * math.factorial(4)\n",
        "n= math.factorial(5)\n",
        "p = m/n\n",
        "print(f'p={p:.2f}')\n",
        "# --------------------"
      ],
      "execution_count": 0,
      "outputs": [
        {
          "output_type": "stream",
          "text": [
            "p=0.40\n"
          ],
          "name": "stdout"
        }
      ]
    },
    {
      "cell_type": "markdown",
      "metadata": {
        "id": "o9hesghyIFAt",
        "colab_type": "text"
      },
      "source": [
        "На стол бросают (по одной) три игральные кости. Найти вероятность того, что все цифры будут разными (размещение с повторением)"
      ]
    },
    {
      "cell_type": "code",
      "metadata": {
        "id": "XJAb4ULaIFAu",
        "colab_type": "code",
        "outputId": "9d2be203-dc06-4d73-ca33-007c9985c7e7",
        "colab": {}
      },
      "source": [
        "# Задача №8\n",
        "\n",
        "m = 6*5*4\n",
        "n=6*6*6\n",
        "p = m/n\n",
        "print(f'p={p:.2f}')\n",
        "# --------------------"
      ],
      "execution_count": 0,
      "outputs": [
        {
          "output_type": "stream",
          "text": [
            "p=0.56\n"
          ],
          "name": "stdout"
        }
      ]
    },
    {
      "cell_type": "markdown",
      "metadata": {
        "id": "E-gSV7Y1IFAz",
        "colab_type": "text"
      },
      "source": [
        "В пачке M&M's 5 красных, 8 жёлтых и 20 синих драже. Из пачки выпало 3 штуки. Найти вероятность того, что все они красные (сочетание)"
      ]
    },
    {
      "cell_type": "code",
      "metadata": {
        "id": "Q10gfFDCIFA0",
        "colab_type": "code",
        "outputId": "ce6c9de1-0a17-43c8-8f21-6fb218b19e4a",
        "colab": {
          "base_uri": "https://localhost:8080/",
          "height": 34
        }
      },
      "source": [
        "# Задача №9\n",
        "m= 5*4*3\n",
        "n=33*32*31\n",
        "\n",
        "p = m/n\n",
        "print(f'p={p:.10f}')\n",
        "# --------------------"
      ],
      "execution_count": 0,
      "outputs": [
        {
          "output_type": "stream",
          "text": [
            "p=0.0018328446\n"
          ],
          "name": "stdout"
        }
      ]
    },
    {
      "cell_type": "markdown",
      "metadata": {
        "id": "5VnXocYVIFA5",
        "colab_type": "text"
      },
      "source": [
        "В лотерее 6 выигрышных билетов из 49-ти. Наугад берут 6 билетов. Какова вероятность того, что среди них будет ровно три выигрышных? Хотя бы один выигрышный?"
      ]
    },
    {
      "cell_type": "code",
      "metadata": {
        "id": "_1B66XgSIFA6",
        "colab_type": "code",
        "outputId": "8c3a12b4-998f-4295-b074-4d1c8e18a0fd",
        "colab": {}
      },
      "source": [
        "# Задача №10\n",
        "n_total = 49\n",
        "n_selected = 6\n",
        "n_winning = 6\n",
        "n_not_winning = n_total-n_winning\n",
        "\n",
        "# Общее число исходов равно числу сочетаний 6-ти билетов из всех билетов:\n",
        "n = math.factorial(n_total)/(math.factorial(n_selected)*math.factorial(n_total-n_selected))\n",
        "\n",
        "# Ответ на первый вопрос\n",
        "# Благоприятный исход состоит в том, что из 6-ти выбранных билета 3 билета будут выигрышными. \n",
        "# Т.е. 3 билета выбираются из 6-ти выигрышных билетов, а еще 3 билета берутся из оставшихся билетов.\n",
        "n_winning_selected = 3\n",
        "m_winning = math.factorial(n_winning)/(math.factorial(n_winning_selected)*math.factorial(n_winning-n_winning_selected))\n",
        "n_not_winning_selected = 3\n",
        "m_not_winning = math.factorial(n_not_winning)/(math.factorial(n_not_winning_selected)*math.factorial(n_not_winning-n_not_winning_selected))\n",
        "m = m_winning*m_not_winning\n",
        "\n",
        "p = m/n\n",
        "print(f'1. p={p:.10f}')\n",
        "\n",
        "# Ответ на второй вопрос\n",
        "# Сначала найдем вероятность того, что ни один билет не был выигрышным. Т.е. все 6 билетов выбираются из невыигрышных билетов.\n",
        "m_not_winning = math.factorial(n_not_winning)/(math.factorial(n_selected)*math.factorial(n_not_winning-n_selected))\n",
        "p_not_winning = m_not_winning/n\n",
        "\n",
        "# Тогда вероятность выбрать хотя бы один выигрышный билет равняется\n",
        "p = 1-p_not_winning\n",
        "print(f'2. p={p:.10f}')\n",
        "\n",
        "# --------------------"
      ],
      "execution_count": 0,
      "outputs": [
        {
          "output_type": "stream",
          "text": [
            "1. p=0.0176504039\n",
            "2. p=0.5640350245\n"
          ],
          "name": "stdout"
        }
      ]
    },
    {
      "cell_type": "markdown",
      "metadata": {
        "id": "3Z956tdYIFA-",
        "colab_type": "text"
      },
      "source": [
        "В урне 10 белых и 5 чёрных шаров. Потеряли 2 шара. Наугад извлекают три шара и все они белые. Найти вероятность того, что обы утерянных шара чёрные (условная вероятность)."
      ]
    },
    {
      "cell_type": "code",
      "metadata": {
        "id": "FhwuJ3FFIFBA",
        "colab_type": "code",
        "outputId": "746555bd-7941-4435-98d7-fb50abd7cc66",
        "colab": {
          "base_uri": "https://localhost:8080/",
          "height": 34
        }
      },
      "source": [
        "# Задача №11\n",
        "m= math.factorial(5)/ (math.factorial(2)*math.factorial(3))\n",
        "n= math.factorial(12)/(math.factorial(2)* math.factorial(10))\n",
        "p=m/n\n",
        "print(f'p={p:.10f}')\n",
        "# --------------------"
      ],
      "execution_count": 0,
      "outputs": [
        {
          "output_type": "stream",
          "text": [
            "p=0.1515151515\n"
          ],
          "name": "stdout"
        }
      ]
    },
    {
      "cell_type": "markdown",
      "metadata": {
        "id": "GUt323rvIFBE",
        "colab_type": "text"
      },
      "source": [
        "В связке 20 ключей, нужно открыть одну дверь. Найти вероятность того, что до успеха придётся перебрать ровно половину"
      ]
    },
    {
      "cell_type": "code",
      "metadata": {
        "id": "MwiC9WxFIFBG",
        "colab_type": "code",
        "outputId": "e202ea43-12b6-4342-ae4e-00fad37c8ff4",
        "colab": {}
      },
      "source": [
        "# Задача №12\n",
        "# Будем считать, что клюи пронумерованы. Допустим, мы их наугад раскладываем в ряд. Всего вариантов разложения \n",
        "n = math.factorial(20)\n",
        "\n",
        "# К двери подходит только один ключ, который по условию должен располагаться на 10-м месте. \n",
        "# Остальные ключи могут раполагаться в произвольном порядке.\n",
        "# Тогда число благоприятных исходов равно\n",
        "m = math.factorial(19)\n",
        "\n",
        "p = m/n\n",
        "print(f'p={p:.10f}')\n",
        "# --------------------"
      ],
      "execution_count": 0,
      "outputs": [
        {
          "output_type": "stream",
          "text": [
            "p=0.0500000000\n"
          ],
          "name": "stdout"
        }
      ]
    },
    {
      "cell_type": "markdown",
      "metadata": {
        "id": "oMKPDtIBIFBK",
        "colab_type": "text"
      },
      "source": [
        "На стол выкладывают карточки аз набора {А, А, А, Н, Н, С}. Найти вероятность того, что получится слово *АНАНАС*"
      ]
    },
    {
      "cell_type": "code",
      "metadata": {
        "id": "NfyGjAEjIFBL",
        "colab_type": "code",
        "outputId": "c08a9e74-bf8c-4069-ced0-7098bbcd4baa",
        "colab": {}
      },
      "source": [
        "# Задача №13\n",
        "m= 3*2*2*1*1\n",
        "n= math.factorial(6)\n",
        "p = m/n\n",
        "print(f'p={p:.10f}')\n",
        "# --------------------"
      ],
      "execution_count": 0,
      "outputs": [
        {
          "output_type": "stream",
          "text": [
            "p=0.0166666667\n"
          ],
          "name": "stdout"
        }
      ]
    },
    {
      "cell_type": "markdown",
      "metadata": {
        "id": "GzpghzReIFBP",
        "colab_type": "text"
      },
      "source": [
        "В баре 30 мест, 5 человек бронируют места. Найти вероятность того, что все места будут разными."
      ]
    },
    {
      "cell_type": "code",
      "metadata": {
        "id": "JUDSKb-PIFBQ",
        "colab_type": "code",
        "outputId": "46d486c0-52d0-4491-84b8-6ded7242ca5d",
        "colab": {
          "base_uri": "https://localhost:8080/",
          "height": 34
        }
      },
      "source": [
        "# Задача №14\n",
        "m=30*29*28*27*26 \n",
        "n= 30**5\n",
        "\n",
        "p = m/n\n",
        "print(f'p={p:.10f}')\n",
        "# --------------------"
      ],
      "execution_count": 0,
      "outputs": [
        {
          "output_type": "stream",
          "text": [
            "p=0.7037333333\n"
          ],
          "name": "stdout"
        }
      ]
    },
    {
      "cell_type": "markdown",
      "metadata": {
        "id": "YEH0uaJYIFBT",
        "colab_type": "text"
      },
      "source": [
        "В корзине  6 белых, 5 синих и 4 красных. Шары извлекают по одному без возвращения до появления красного шара. Найти вероятность того, что придётся извлечь не менее 4-х шаров."
      ]
    },
    {
      "cell_type": "code",
      "metadata": {
        "id": "s2I5Zl3JIFBU",
        "colab_type": "code",
        "outputId": "465fd73f-fc97-413c-db09-b40eb3ec1355",
        "colab": {}
      },
      "source": [
        "# Задача №15\n",
        "# Придется извлечь не менее 4-х шаров, т.е. первые 3 шара точно не красные.\n",
        "\n",
        "# Тогда благоприятными исходами будут случаи, когда первые три шара выбираются из белых и синих шаров.\n",
        "# Число таких исходов равно\n",
        "m = math.factorial(11)/(math.factorial(3)*math.factorial(11-3))\n",
        "\n",
        "# Общей число исходов равно количеству вариантов выбрать 3 шара из всех шаров, т.е.\n",
        "n = math.factorial(15)/(math.factorial(3)*math.factorial(15-3))\n",
        "\n",
        "p = m/n\n",
        "print(f'p={p:.10f}')\n",
        "# --------------------"
      ],
      "execution_count": 0,
      "outputs": [
        {
          "output_type": "stream",
          "text": [
            "p=0.3626373626\n"
          ],
          "name": "stdout"
        }
      ]
    },
    {
      "cell_type": "markdown",
      "metadata": {
        "id": "VynxzfH6IFBW",
        "colab_type": "text"
      },
      "source": [
        "Две ладьи (белая и чёрная) ставятся на доску наугад. Что более вероятно - (а) будут друг друга бить или (б) не будут."
      ]
    },
    {
      "cell_type": "code",
      "metadata": {
        "id": "EHqgI9LjIFBa",
        "colab_type": "code",
        "colab": {}
      },
      "source": [
        "# Задача №16\n",
        "p1= 14/63\n",
        "p2= 49/63\n",
        "\n",
        "# --------------------"
      ],
      "execution_count": 0,
      "outputs": []
    },
    {
      "cell_type": "markdown",
      "metadata": {
        "id": "ODCg0FSvIFBf",
        "colab_type": "text"
      },
      "source": [
        "Рассчитать вероятность «счастливого билета».\n",
        "\n",
        "Цифр в номере шесть. Счастливым считается билет, сумма первых трех цифр которого совпадает с суммой оставшихся."
      ]
    },
    {
      "cell_type": "code",
      "metadata": {
        "id": "Dygo9Eo_IFBh",
        "colab_type": "code",
        "outputId": "e78782ce-ff0f-4e72-c079-8ea5abb0f664",
        "colab": {}
      },
      "source": [
        "# Задача №17\n",
        "# Найдем число счастливых билетов.\n",
        "# Сумма 3-х цифр S может принимать значения от 0 до 27. \n",
        "# Пусть n_S -- число билетов, сумма первых 3-х цифр равна сумме трех последних цифр и равна S.\n",
        "# Можно доказать, что n_S = n_(27-S).\n",
        "# Число способов представления целого неотрицательного числа a в виде суммы трех целых неотрицательных слагаемых\n",
        "# равно числу сочетаний из 2 по (a+2). \n",
        "# Тогда число способов n_S получить сумму S от 0 до 9 можно вычислить по указанной формуле.\n",
        "# Т.к. цифры 10 (11, 12, 13) не существует, то нужно из всех способов разбиения числа 10 на три целых неотрицательных слагаемых \n",
        "# вычесть те способы, в которых одно из слагаемых равно 10 (11, 12, 13).\n",
        "# Учитывая все вышесказанное, получим следующее\n",
        "def C(s):\n",
        "    return math.factorial(s+2)/(math.factorial(2)*math.factorial(s))\n",
        "\n",
        "m = 2*(C(0)**2+C(1)**2+C(2)**2+C(3)**2+C(4)**2+C(5)**2+C(6)**2+C(7)**2+C(8)**2+C(9)**2+(C(10)-3*C(0))**2+(C(11)-3*C(1))**2+(C(12)-3*C(2))**2+(C(13)-3*C(3))**2)\n",
        "n = 10*10*10*10*10*10\n",
        "\n",
        "p = m/n\n",
        "print(f'p={p:.10f}')\n",
        "# --------------------"
      ],
      "execution_count": 0,
      "outputs": [
        {
          "output_type": "stream",
          "text": [
            "p=0.0552520000\n"
          ],
          "name": "stdout"
        }
      ]
    },
    {
      "cell_type": "markdown",
      "metadata": {
        "id": "TJKGv5-jIFBm",
        "colab_type": "text"
      },
      "source": [
        "# HW2: формулы вычисления вероятностей"
      ]
    },
    {
      "cell_type": "markdown",
      "metadata": {
        "id": "euUb7iu9IFBn",
        "colab_type": "text"
      },
      "source": [
        "На ресурсе 30% пользователей iOS, На Android конверсия в покупку фильма 0.05, на iOS 0.08. Пользователь совершает покупку. Найти вероятность, что это пользователь Android."
      ]
    },
    {
      "cell_type": "code",
      "metadata": {
        "id": "aaaU87b0IFBo",
        "colab_type": "code",
        "outputId": "5cbcc757-5771-4e27-87c6-5e9a5f200d71",
        "colab": {}
      },
      "source": [
        "# Ваш\n",
        "# A -- событие, что пользователь совершил покупку\n",
        "# H1 -- пользователь Android\n",
        "# H2 -- пользователь IOS\n",
        "# P(H1|A)-?\n",
        "#    | P(A|Hi) | P(Hi)\n",
        "# H1 |  0.05   | 0.7\n",
        "# H2 |  0.08   | 0.3\n",
        "# Формула Байеса: P(H1|A)=P(A|H1)*P(H1)/(P(A|H1)*P(H1)+P(A|H2)*P(H2))\n",
        "\n",
        "p = 0.05*0.7/(0.05*0.7+0.08*0.3)\n",
        "print(f'p={p:.10f}')\n",
        "\n",
        "# --------------------"
      ],
      "execution_count": 0,
      "outputs": [
        {
          "output_type": "stream",
          "text": [
            "p=0.5932203390\n"
          ],
          "name": "stdout"
        }
      ]
    },
    {
      "cell_type": "markdown",
      "metadata": {
        "id": "UEXg-bNCIFBq",
        "colab_type": "text"
      },
      "source": [
        "Вероятность встретить частицу в течение минуты = P. Какова вероятность встретить хотя бы одну частицу в течение 30 минут?"
      ]
    },
    {
      "cell_type": "code",
      "metadata": {
        "id": "W5nH09M1IFBr",
        "colab_type": "code",
        "outputId": "3edc9683-391f-418b-f4ed-f34a8002088f",
        "colab": {}
      },
      "source": [
        "# Задача №19\n",
        "# Вероятность встретить частицу в течение минуты = P. Следовательно, вероятность не встретить частицу в течение минуты = 1-P.\n",
        "# Вероятность, что не встретиться ни одна частица в течение 30 минут равна (1-P)^30\n",
        "# Тогда вероятность встретить хотя бы одну частицу равна 1-(1-P)^30\n",
        "def probability_more_one(P):\n",
        "    return 1-(1-P)**30\n",
        "\n",
        "P = 0.05\n",
        "p_for_30 = probability_more_one(P)\n",
        "print(f'p={p_for_30:.10f}')\n",
        "# --------------------"
      ],
      "execution_count": 0,
      "outputs": [
        {
          "output_type": "stream",
          "text": [
            "p=0.7853612361\n"
          ],
          "name": "stdout"
        }
      ]
    },
    {
      "cell_type": "markdown",
      "metadata": {
        "id": "m8qOBuLYIFBy",
        "colab_type": "text"
      },
      "source": [
        "Тест на болезнь имеет вероятность ошибки 0.1 (как позитивной, так и негативной). Достоверно известно, что болеет 10% населения. Какая вероятность того, что человек болен, если у него позитивный результат теста?"
      ]
    },
    {
      "cell_type": "code",
      "metadata": {
        "id": "NGgfwZ13IFBy",
        "colab_type": "code",
        "outputId": "324d08b3-ed98-46a0-b4ef-38d7404cd861",
        "colab": {}
      },
      "source": [
        "# Задача №20\n",
        "# A -- вероятность, что результат теста позитивный\n",
        "# H1 -- человек болеет\n",
        "# H2 -- человек не болеет\n",
        "# P(H1|A)-?\n",
        "#    | P(A|Hi) | P(Hi)\n",
        "# H1 |   0.9   | 0.1\n",
        "# H2 |   0.1   | 0.9\n",
        "# Формула Байеса: P(H1|A)=P(A|H1)*P(H1)/(P(A|H1)*P(H1)+P(A|H2)*P(H2))\n",
        "\n",
        "p = 0.9*0.1/(0.9*0.1+0.1*0.9)\n",
        "print(f'p={p:.10f}')\n",
        "#----------------------"
      ],
      "execution_count": 0,
      "outputs": [
        {
          "output_type": "stream",
          "text": [
            "p=0.5000000000\n"
          ],
          "name": "stdout"
        }
      ]
    },
    {
      "cell_type": "markdown",
      "metadata": {
        "id": "CKhbuUGZIFB2",
        "colab_type": "text"
      },
      "source": [
        "Что вероятнее с равносильным противником - выиграть 3 партии из 4-х, или 5 из 8-ми?(схема Бернулли)"
      ]
    },
    {
      "cell_type": "code",
      "metadata": {
        "id": "tkHdHeWGIFB3",
        "colab_type": "code",
        "outputId": "1491a7cc-d109-4402-9e87-ab4b7bd07562",
        "colab": {}
      },
      "source": [
        "# Задача №21\n",
        "# вероятность выиграть в одной партии\n",
        "p = 1/2\n",
        "# вероятность проиграть в одной партии\n",
        "q = 1/2\n",
        "# Число сочетаний:\n",
        "def C(m,n):\n",
        "    return math.factorial(n)/(math.factorial(m)*math.factorial(n-m))\n",
        "# Вероятность выиграть 3 партии из 4-х:\n",
        "p_3_from_4 = C(3,4)*p**3*q**(4-3)\n",
        "# Вероятность выиграть 5 партии из 8-х:\n",
        "p_5_from_8 = C(5,8)*p**5*q**(8-5)\n",
        "\n",
        "print(f'p_3_from_4={p_3_from_4:.10f}')\n",
        "print(f'p_5_from_8={p_5_from_8:.10f}')\n",
        "\n",
        "if (p_3_from_4 > p_5_from_8):\n",
        "    print('Наиболее вероятно выиграть 3 партии из 4-х')\n",
        "elif (p_3_from_4 < p_5_from_8):\n",
        "    print('Наиболее вероятно выиграть 5 партий из 8-ми')\n",
        "else:\n",
        "    print('События равновероятны')\n",
        "#----------------------"
      ],
      "execution_count": 0,
      "outputs": [
        {
          "output_type": "stream",
          "text": [
            "p_3_from_4=0.2500000000\n",
            "p_5_from_8=0.2187500000\n",
            "Наиболее вероятно выиграть 3 партии из 4-х\n"
          ],
          "name": "stdout"
        }
      ]
    },
    {
      "cell_type": "markdown",
      "metadata": {
        "id": "Kv2ZT0v4IFB7",
        "colab_type": "text"
      },
      "source": [
        "Каждый 10-й договор страховой компании завершается выплатой. Компания заключила 5 договоров. Найти вероятность того, что случится хотя бы случится хотя бы один случай. (схема Бернулли)"
      ]
    },
    {
      "cell_type": "code",
      "metadata": {
        "id": "8gfi4jeVIFB8",
        "colab_type": "code",
        "outputId": "9dac0b72-dccf-45df-ed5a-ab0aac565afd",
        "colab": {}
      },
      "source": [
        "# Задача №22\n",
        "# вероятность, что договор не завершится выплатой\n",
        "p = 9/10\n",
        "# вероятность, что договор завершится выплатой\n",
        "q = 1 - p\n",
        "# Число сочетаний:\n",
        "def C(m,n):\n",
        "    return math.factorial(n)/(math.factorial(m)*math.factorial(n-m)) \n",
        "\n",
        "# Вероятность, что у всех 5-ти договоров такой случай не произойдет\n",
        "p_not_pay = C(5,5)*p**10*q**(10-10)\n",
        "\n",
        "# Вероятность того, что случится хотя бы случится хотя бы один случай\n",
        "p_pay = 1-p_not_pay\n",
        "\n",
        "print(f'p={p_pay:.10f}')\n",
        "#----------------------"
      ],
      "execution_count": 0,
      "outputs": [
        {
          "output_type": "stream",
          "text": [
            "p=0.6513215599\n"
          ],
          "name": "stdout"
        }
      ]
    },
    {
      "cell_type": "markdown",
      "metadata": {
        "id": "Bm3I_7pTIFCD",
        "colab_type": "text"
      },
      "source": [
        "В урне 10 белых, 8 синих и 2 красных шара, извлекают 3 шара. Найти вероятность того, что шары будут одного цвета (сложение вероятностей)"
      ]
    },
    {
      "cell_type": "code",
      "metadata": {
        "id": "Ne6Vk0nIIFCE",
        "colab_type": "code",
        "outputId": "8eea3054-5ec4-4362-8e34-f7341806db5e",
        "colab": {}
      },
      "source": [
        "# Задача №23\n",
        "# Число сочетаний:\n",
        "def C(m,n):\n",
        "    return math.factorial(n)/(math.factorial(m)*math.factorial(n-m))\n",
        "# общее число способов взять 3 шара из урны\n",
        "n = C(3,10+8+2)\n",
        "# вероятность того, что 3 шара будут одного цвета\n",
        "m = C(3,10)+C(3,8)\n",
        "\n",
        "p = m/n\n",
        "\n",
        "print(f'p={p:.10f}')\n",
        "#----------------------"
      ],
      "execution_count": 0,
      "outputs": [
        {
          "output_type": "stream",
          "text": [
            "p=0.1543859649\n"
          ],
          "name": "stdout"
        }
      ]
    },
    {
      "cell_type": "markdown",
      "metadata": {
        "id": "5SBk9lk3IFCI",
        "colab_type": "text"
      },
      "source": [
        "Телефон находится в одной из комнат с вероятностью 0.5, 0.6, 0.7. Найти вероятность того, что телефон будет найден, если пройтись по всем комнатам. (произведение вероятностей)"
      ]
    },
    {
      "cell_type": "code",
      "metadata": {
        "id": "Ub1Kxcm2IFCJ",
        "colab_type": "code",
        "outputId": "27c38d43-d127-4d2e-d36c-27c7358588ed",
        "colab": {}
      },
      "source": [
        "# Задача №24\n",
        "# вероятность, что телефон не будет найден ни в одной из комнат, равна\n",
        "q = (1-0.5)*(1-0.6)*(1-0.7)\n",
        "\n",
        "# тогда вероятность, что телефон будет найден\n",
        "p = 1-q\n",
        "\n",
        "print(f'p={p:.10f}')\n",
        "#----------------------"
      ],
      "execution_count": 0,
      "outputs": [
        {
          "output_type": "stream",
          "text": [
            "p=0.9400000000\n"
          ],
          "name": "stdout"
        }
      ]
    },
    {
      "cell_type": "code",
      "metadata": {
        "id": "bGDQgCHyIFCQ",
        "colab_type": "code",
        "colab": {}
      },
      "source": [
        ""
      ],
      "execution_count": 0,
      "outputs": []
    }
  ]
}
